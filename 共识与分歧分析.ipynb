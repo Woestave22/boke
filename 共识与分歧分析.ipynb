{
 "cells": [
  {
   "cell_type": "code",
   "execution_count": 1,
   "id": "22a6cff2",
   "metadata": {},
   "outputs": [
    {
     "data": {
      "text/plain": [
       "'\\n用两次评分的数据研究专家在哪些预备体上意见最为一致/不一致。\\n'"
      ]
     },
     "execution_count": 1,
     "metadata": {},
     "output_type": "execute_result"
    }
   ],
   "source": [
    "'''\n",
    "用两次评分的数据研究专家在哪些预备体上意见最为一致/不一致。\n",
    "'''"
   ]
  },
  {
   "cell_type": "code",
   "execution_count": 2,
   "id": "a0012d1e",
   "metadata": {},
   "outputs": [],
   "source": [
    "import numpy as np\n",
    "\n",
    "# 读txt\n",
    "def read_txt_to_arrays(file_path):\n",
    "    data = np.loadtxt(file_path)\n",
    "    col1 = data[:, 0]\n",
    "    col2 = data[:, 1]\n",
    "    col3 = data[:, 2]\n",
    "    return col1, col2, col3\n",
    "\n",
    "# 百分制等级化，即用排序代替分数\n",
    "def get_sort_indices(array):\n",
    "    # 获取数组的排序序号\n",
    "    sort_indices = np.argsort(array)\n",
    "    # 初始化一个数组来存储每个元素的排序序号\n",
    "    rank = np.empty_like(sort_indices)\n",
    "    # 遍历排序索引数组，将排序序号存储到rank数组中\n",
    "    rank[sort_indices] = np.arange(len(array))\n",
    "    return rank\n",
    "\n",
    "# 计算方差\n",
    "def calculate_variance(arr1, arr2, arr3):\n",
    "    # 确保输入数组的长度相同\n",
    "    if len(arr1) != len(arr2) or len(arr2) != len(arr3):\n",
    "        raise ValueError(\"All input arrays must have the same length\")\n",
    "    # 将三个数组堆叠成一个二维数组\n",
    "    stacked_arrays = np.vstack((arr1, arr2, arr3))\n",
    "    # 在第一个轴上计算方差，即对每个索引处的值计算方差\n",
    "    variances = np.var(stacked_arrays, axis=0)\n",
    "    return variances\n",
    "\n",
    "# 方差排序并输出序号，注意是从1开始编号\n",
    "def find_top_and_bottom_indices(variances, n=5):\n",
    "    # 获取方差最小的n个索引\n",
    "    smallest_indices = np.argsort(variances)[:n] + 1\n",
    "    # 获取方差最大的n个索引\n",
    "    largest_indices = np.argsort(variances)[-n:] + 1\n",
    "    return smallest_indices, largest_indices\n"
   ]
  },
  {
   "cell_type": "code",
   "execution_count": 3,
   "id": "a2eb518a",
   "metadata": {},
   "outputs": [
    {
     "name": "stdout",
     "output_type": "stream",
     "text": [
      "三位专家最容易达成共识的牙齿编号为: [22 16 29 21 13]\n",
      "三位专家意见分歧最大的牙齿编号为: [14  3  5 20  1]\n"
     ]
    }
   ],
   "source": [
    "# 百分制下的共识与分歧分析\n",
    "file_path1 = 'D:/李娅宁/一致性/scores.txt'\n",
    "col1, col2, col3 = read_txt_to_arrays(file_path1)\n",
    "col1 = get_sort_indices(col1)\n",
    "col2 = get_sort_indices(col2)\n",
    "col3 = get_sort_indices(col3)\n",
    "variances = calculate_variance(col1, col2, col3)\n",
    "smallest_indices, largest_indices = find_top_and_bottom_indices(variances)\n",
    "print(\"三位专家最容易达成共识的牙齿编号为:\", smallest_indices)\n",
    "print(\"三位专家意见分歧最大的牙齿编号为:\", largest_indices)"
   ]
  },
  {
   "cell_type": "code",
   "execution_count": 4,
   "id": "e5f4ef63",
   "metadata": {},
   "outputs": [
    {
     "name": "stdout",
     "output_type": "stream",
     "text": [
      "三位专家最容易达成共识的牙齿编号为: [15 25 24 12 30]\n",
      "三位专家意见分歧最大的牙齿编号为: [14  4  1 13 20]\n"
     ]
    }
   ],
   "source": [
    "# 等级下的共识与分歧分析\n",
    "file_path2 = 'D:/李娅宁/一致性/grades.txt'\n",
    "col1, col2, col3 = read_txt_to_arrays(file_path2)\n",
    "variances = calculate_variance(col1, col2, col3)\n",
    "smallest_indices, largest_indices = find_top_and_bottom_indices(variances)\n",
    "print(\"三位专家最容易达成共识的牙齿编号为:\", smallest_indices)\n",
    "print(\"三位专家意见分歧最大的牙齿编号为:\", largest_indices)"
   ]
  },
  {
   "cell_type": "code",
   "execution_count": null,
   "id": "ee6f7216",
   "metadata": {},
   "outputs": [],
   "source": []
  },
  {
   "cell_type": "code",
   "execution_count": null,
   "id": "2133e5cd",
   "metadata": {},
   "outputs": [],
   "source": []
  }
 ],
 "metadata": {
  "kernelspec": {
   "display_name": "Python 3 (ipykernel)",
   "language": "python",
   "name": "python3"
  },
  "language_info": {
   "codemirror_mode": {
    "name": "ipython",
    "version": 3
   },
   "file_extension": ".py",
   "mimetype": "text/x-python",
   "name": "python",
   "nbconvert_exporter": "python",
   "pygments_lexer": "ipython3",
   "version": "3.11.5"
  }
 },
 "nbformat": 4,
 "nbformat_minor": 5
}
