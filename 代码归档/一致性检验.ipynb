{
 "cells": [
  {
   "cell_type": "code",
   "execution_count": 1,
   "id": "5b32bc0d-4ddf-43f9-8ddd-56197b76e796",
   "metadata": {},
   "outputs": [
    {
     "data": {
      "text/plain": [
       "'\\n一致性检验程序，无需安装环境。\\n输入数据的三列依次是葛老师、王老师、周老师。\\n'"
      ]
     },
     "execution_count": 1,
     "metadata": {},
     "output_type": "execute_result"
    }
   ],
   "source": [
    "'''\n",
    "一致性检验程序，无需安装环境。\n",
    "输入数据的三列依次是葛老师、王老师、周老师。\n",
    "'''"
   ]
  },
  {
   "cell_type": "code",
   "execution_count": 2,
   "id": "f7a67d6f-4393-48e1-a300-7e48c0027b85",
   "metadata": {
    "tags": []
   },
   "outputs": [
    {
     "name": "stdout",
     "output_type": "stream",
     "text": [
      "Kendall's W: 0.4659745396119145\n"
     ]
    }
   ],
   "source": [
    "# 百分制，Kendall's W\n",
    "\n",
    "import numpy as np\n",
    "from scipy.stats import kendalltau\n",
    "import scipy.stats as stats\n",
    "\n",
    "def read_data(file_path):\n",
    "    data = np.loadtxt(file_path)\n",
    "    object_ids = data[:, 0]\n",
    "    scores = data[:, 1:]\n",
    "    return object_ids, scores\n",
    "\n",
    "def kendalls_w(scores):\n",
    "    num_objects, num_raters = scores.shape\n",
    "    rank_sums = np.sum(scores, axis=1)\n",
    "    mean_rank = np.mean(rank_sums)\n",
    "    S = np.sum((rank_sums - mean_rank)**2)\n",
    "    W = 12 * S / (num_raters**2 * (num_objects**3 - num_objects))\n",
    "    return W\n",
    "\n",
    "# 读取数据文件\n",
    "file_path = 'ConsistencyPercentage.txt'\n",
    "object_ids, scores = read_data(file_path)\n",
    "\n",
    "# 将评分转化为排名\n",
    "ranks = np.argsort(np.argsort(scores, axis=0), axis=0) + 1\n",
    "\n",
    "# 计算Kendall's W\n",
    "W = kendalls_w(ranks)\n",
    "print(f\"Kendall's W: {W}\")\n"
   ]
  },
  {
   "cell_type": "code",
   "execution_count": 3,
   "id": "3cf05635-2727-4ac0-ac7b-14a78067f567",
   "metadata": {},
   "outputs": [
    {
     "name": "stdout",
     "output_type": "stream",
     "text": [
      "Kendall's W: 0.4659745396119145\n"
     ]
    }
   ],
   "source": [
    "# 百分制，加归一化\n",
    "# 对每个评分者，取其最低打分为0分，最高打分为100分，将其打分区间均匀映射到[0,100]上\n",
    "# 归一化对Kendall's W并无影响，因为Kendall's W本质上不是检验分数的一致性而是检验排序的一致性\n",
    "\n",
    "# 读取数据文件\n",
    "file_path = 'ConsistencyPercentage.txt'\n",
    "object_ids, scores = read_data(file_path)\n",
    "\n",
    "\n",
    "# 初始化一个相同大小的数组来存放归一化后的数据\n",
    "normalized_data = np.zeros_like(scores, dtype=float)\n",
    "\n",
    "# 对每一列进行归一化处理\n",
    "for i in range(scores.shape[1]):\n",
    "    min_val = np.min(scores[:, i])\n",
    "    max_val = np.max(scores[:, i])\n",
    "    \n",
    "    # 避免除以零的情况\n",
    "    if max_val != min_val:\n",
    "        normalized_data[:, i] = (scores[:, i] - min_val) / (max_val - min_val) * 100\n",
    "    else:\n",
    "        normalized_data[:, i] = 0  # 如果 max == min，则整列为相同值，可以设为0\n",
    "\n",
    "\n",
    "# 将评分转化为排名\n",
    "ranks = np.argsort(np.argsort(scores, axis=0), axis=0) + 1\n",
    "\n",
    "# 计算Kendall's W\n",
    "W = kendalls_w(ranks)\n",
    "print(f\"Kendall's W: {W}\")"
   ]
  },
  {
   "cell_type": "code",
   "execution_count": 4,
   "id": "ec3694a8-ae89-45c9-83a2-5647cf7ad742",
   "metadata": {
    "tags": []
   },
   "outputs": [
    {
     "name": "stdout",
     "output_type": "stream",
     "text": [
      "Fleiss Kappa: -0.19271120927664218\n"
     ]
    }
   ],
   "source": [
    "# 等级制，Fleiss Kappa\n",
    "'''\n",
    "# 没给我这部分数据，我只能写码不能运算\n",
    "# 如果直接把百分制换算成5级制，结果一塌糊涂，这侧面说明专家打分的心理会受到分数制度的影响，并且对不同专家来说这种影响还不一样\n",
    "# ————必须先对专家平时工作中打分的心理、情景、分数制度做调查研究，别急着规定用什么分数制度\n",
    "'''\n",
    "\n",
    "import numpy as np\n",
    "\n",
    "def read_data(file_path):\n",
    "    # 读取txt文件\n",
    "    data = np.loadtxt(file_path)\n",
    "    # 提取评分部分\n",
    "    scores = data[:, 1:]\n",
    "    return scores\n",
    "\n",
    "# 定义百分制转五等制的函数，正式版要注释掉，并修改最下方用于计算的代码\n",
    "def convert_scores(scores):\n",
    "    # 定义转换函数\n",
    "    def convert_score(score):\n",
    "        if 0 <= score <= 20:\n",
    "            return 1\n",
    "        elif 21 <= score <= 40:\n",
    "            return 2\n",
    "        elif 41 <= score <= 60:\n",
    "            return 3\n",
    "        elif 61 <= score <= 80:\n",
    "            return 4\n",
    "        elif 81 <= score <= 100:\n",
    "            return 5\n",
    "        else:\n",
    "            raise ValueError(\"Score out of range\")\n",
    "    # 向量化转换函数\n",
    "    vectorized_convert = np.vectorize(convert_score)\n",
    "    # 转换评分\n",
    "    converted_scores = vectorized_convert(scores)\n",
    "    return converted_scores\n",
    "\n",
    "def fleiss_kappa(matrix,k):\n",
    "    num_objects, num_raters = matrix.shape\n",
    "    # 计算每个类别在每个对象上的频率\n",
    "    category_count = np.zeros((num_objects, k))\n",
    "    for i in range(num_objects):\n",
    "        for j in range(num_raters):\n",
    "            category_count[i, int(matrix[i, j]) - 1] += 1\n",
    "    # 计算p_j（各类别总体比例）\n",
    "    p_j = np.sum(category_count, axis=0) / (num_objects * num_raters)\n",
    "    # 计算P_i（各对象的一致性）\n",
    "    P_i = (np.sum(category_count**2, axis=1) - num_raters) / (num_raters * (num_raters - 1))\n",
    "    # 计算总体一致性P_bar\n",
    "    P_bar = np.mean(P_i)\n",
    "    # 计算期望一致性P_e\n",
    "    P_e = np.sum(p_j**2)\n",
    "    # 计算Fleiss Kappa\n",
    "    kappa = (P_bar - P_e) / (1 - P_e)\n",
    "    return kappa\n",
    "\n",
    "# 读取数据文件\n",
    "file_path = 'ConsistencyPercentage.txt'\n",
    "scores = read_data(file_path)\n",
    "\n",
    "# 计算Fleiss Kappa\n",
    "converted_scores = convert_scores(scores)  # 正式版要注释掉\n",
    "k = 5 # 5级制\n",
    "kappa = fleiss_kappa(converted_scores,k)  # 正式版里converted_scores改成scores\n",
    "print(f\"Fleiss Kappa: {kappa}\")\n"
   ]
  },
  {
   "cell_type": "code",
   "execution_count": 5,
   "id": "0567bf78-9ca8-41a1-954a-6086826ba424",
   "metadata": {
    "tags": []
   },
   "outputs": [
    {
     "name": "stdout",
     "output_type": "stream",
     "text": [
      "Fleiss Kappa: 1.0\n"
     ]
    }
   ],
   "source": [
    "# 之前结果为负数，这表示各专家完全达不成一致\n",
    "# 为了验证代码是否有误，这组测试数据是三人完全一致，结果是1——不是代码的问题\n",
    "TestMatrix = np.zeros([30,3])\n",
    "for i in range(30):\n",
    "    TestMatrix[i,:] = int(i%5 +1), int(i%5 +1), int(i%5 +1)\n",
    "    \n",
    "kappa = fleiss_kappa(TestMatrix,5)\n",
    "print(f\"Fleiss Kappa: {kappa}\")"
   ]
  }
 ],
 "metadata": {
  "kernelspec": {
   "display_name": "Python 3 (ipykernel)",
   "language": "python",
   "name": "python3"
  },
  "language_info": {
   "codemirror_mode": {
    "name": "ipython",
    "version": 3
   },
   "file_extension": ".py",
   "mimetype": "text/x-python",
   "name": "python",
   "nbconvert_exporter": "python",
   "pygments_lexer": "ipython3",
   "version": "3.9.7"
  }
 },
 "nbformat": 4,
 "nbformat_minor": 5
}
