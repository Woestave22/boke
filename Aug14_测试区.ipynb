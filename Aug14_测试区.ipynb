{
 "cells": [
  {
   "cell_type": "code",
   "execution_count": null,
   "id": "5fc8e638-dd95-4fe6-acdc-ada55a805726",
   "metadata": {},
   "outputs": [],
   "source": []
  },
  {
   "cell_type": "code",
   "execution_count": null,
   "id": "96c033e2-eba0-4be0-b170-73ad4b805b5b",
   "metadata": {},
   "outputs": [],
   "source": []
  },
  {
   "cell_type": "code",
   "execution_count": null,
   "id": "8fa8cc41-2867-48a2-8e85-b84e734ee735",
   "metadata": {},
   "outputs": [],
   "source": []
  },
  {
   "cell_type": "code",
   "execution_count": null,
   "id": "29e485f9-c7b9-49f8-933f-4546323feb23",
   "metadata": {},
   "outputs": [],
   "source": []
  },
  {
   "cell_type": "code",
   "execution_count": null,
   "id": "2bd947f3-496c-4250-9fec-43f50ea95eb1",
   "metadata": {},
   "outputs": [],
   "source": []
  },
  {
   "cell_type": "code",
   "execution_count": null,
   "id": "0d5c1076-d80e-4475-a7fc-9160e0eaedb9",
   "metadata": {},
   "outputs": [],
   "source": [
    "'''检测G2的连通性'''\n",
    "\n",
    "import networkx as nx\n",
    "import numpy as np\n",
    "from scipy.spatial.distance import cdist\n",
    "\n",
    "def connect_components_until_single(G, marks):\n",
    "    while len(list(nx.connected_components(G))) > 1:\n",
    "        G = connect_components_improved(G, marks)\n",
    "    return G\n",
    "\n",
    "def connect_components_improved(G, marks):\n",
    "    components = list(nx.connected_components(G))\n",
    "\n",
    "    G_new = G.copy()\n",
    "\n",
    "    for comp1 in components:\n",
    "        comp1_nodes = list(comp1)\n",
    "        external_nodes = list(set(G.nodes()) - set(comp1))\n",
    "\n",
    "        min_distances = []\n",
    "        for node1 in comp1_nodes:\n",
    "            distances = cdist([marks[node1]], [marks[node] for node in external_nodes]).flatten()\n",
    "            closest_node = external_nodes[np.argmin(distances)]\n",
    "            min_distances.append((node1, closest_node, np.min(distances)))\n",
    "\n",
    "        min_distances.sort(key=lambda x: x[2])\n",
    "        closest_connections = min_distances[:2]\n",
    "\n",
    "        for node1, node2, _ in closest_connections:\n",
    "            G_new.add_edge(node1, node2)\n",
    "\n",
    "    return G_new\n"
   ]
  },
  {
   "cell_type": "code",
   "execution_count": null,
   "id": "608b4020-940f-4334-837c-ef09249113ad",
   "metadata": {},
   "outputs": [],
   "source": []
  },
  {
   "cell_type": "code",
   "execution_count": null,
   "id": "f8d4f67f-a47a-40d1-aa0d-f5bf49c680f4",
   "metadata": {},
   "outputs": [],
   "source": []
  },
  {
   "cell_type": "code",
   "execution_count": null,
   "id": "446e952f-be4a-408c-b4f0-7244a5b439da",
   "metadata": {},
   "outputs": [],
   "source": [
    "import networkx as nx\n",
    "\n",
    "def filter_paths(G, nodes, secondary_nodes):\n",
    "    \"\"\"\n",
    "    改良G2，保留符合条件的路径。\n",
    "    \n",
    "    参数:\n",
    "    - G: networkx 图对象，表示当前的拓扑图 G2。\n",
    "    - nodes: 包含所有节点（度为3）的列表。\n",
    "    - secondary_nodes: 包含每个节点直接连接的三个非节点（二级节点）的列表。\n",
    "\n",
    "    返回:\n",
    "    - filtered_paths: 经过筛选的路径列表。\n",
    "    \"\"\"\n",
    "    filtered_paths = []\n",
    "\n",
    "    # 遍历所有节点对\n",
    "    for i in range(len(nodes)):\n",
    "        for j in range(i + 1, len(nodes)):\n",
    "            node1 = nodes[i]\n",
    "            node2 = nodes[j]\n",
    "\n",
    "            # 找到两个节点之间的一条最短路径\n",
    "            shortest_path = nx.shortest_path(G, source=node1, target=node2)\n",
    "\n",
    "            # 路径中的中间节点是否包含第三个或更多节点\n",
    "            intermediate_nodes = shortest_path[1:-1]\n",
    "            if any(node in nodes for node in intermediate_nodes):\n",
    "                continue  # 如果包含第三个或更多节点，跳过此路径\n",
    "\n",
    "            # 统计路径中经过的二级节点数量\n",
    "            secondary_node_count = sum(1 for node in intermediate_nodes if node in secondary_nodes)\n",
    "            \n",
    "            # 检查路径是否恰好通过两个二级节点\n",
    "            if secondary_node_count == 2:\n",
    "                filtered_paths.append(shortest_path)\n",
    "\n",
    "    return filtered_paths\n"
   ]
  },
  {
   "cell_type": "code",
   "execution_count": null,
   "id": "941a1ad5-a9d7-40a8-8493-314fa688ab5d",
   "metadata": {},
   "outputs": [],
   "source": []
  },
  {
   "cell_type": "code",
   "execution_count": null,
   "id": "13439095-9b81-4099-9b57-ccb561000a8a",
   "metadata": {},
   "outputs": [],
   "source": []
  }
 ],
 "metadata": {
  "kernelspec": {
   "display_name": "Python 3 (ipykernel)",
   "language": "python",
   "name": "python3"
  },
  "language_info": {
   "codemirror_mode": {
    "name": "ipython",
    "version": 3
   },
   "file_extension": ".py",
   "mimetype": "text/x-python",
   "name": "python",
   "nbconvert_exporter": "python",
   "pygments_lexer": "ipython3",
   "version": "3.8.19"
  }
 },
 "nbformat": 4,
 "nbformat_minor": 5
}
